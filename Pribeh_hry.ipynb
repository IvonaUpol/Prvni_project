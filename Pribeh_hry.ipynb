{
  "nbformat": 4,
  "nbformat_minor": 0,
  "metadata": {
    "colab": {
      "provenance": [],
      "authorship_tag": "ABX9TyNBr/22uZIVmZmUjcKGE+oi",
      "include_colab_link": true
    },
    "kernelspec": {
      "name": "python3",
      "display_name": "Python 3"
    },
    "language_info": {
      "name": "python"
    }
  },
  "cells": [
    {
      "cell_type": "markdown",
      "metadata": {
        "id": "view-in-github",
        "colab_type": "text"
      },
      "source": [
        "<a href=\"https://colab.research.google.com/github/IvonaUpol/Prvni_project/blob/main/Pribeh_hry.ipynb\" target=\"_parent\"><img src=\"https://colab.research.google.com/assets/colab-badge.svg\" alt=\"Open In Colab\"/></a>"
      ]
    },
    {
      "cell_type": "markdown",
      "source": [
        "# Příběh hry\n",
        "Príbeh s dvemi možnosťami na konci. Po výberu sa vytvorý další časť príbehu. Vždy je len jedna možnosť správna.\n",
        "\n",
        "**Postup**\n",
        "1. Napiš příběh\n",
        "2. Zvol si kudy cheš jít\n"
      ],
      "metadata": {
        "id": "iY-izv5-AEHV"
      }
    },
    {
      "cell_type": "code",
      "source": [
        "# prompt: Naprogramuj mi příběh s dvěmi možnostmi na konci. Po výberu sa vytvorý další časť príbehu. Vždy je len jedna možnosť správna.\n",
        "\n",
        "print(\"Jednoho dne se probudíš v tajemné komnatě. Nevíš, jak ses sem dostal. Před tebou jsou dvoje dveře: jedny dřevěné a jedny kovové.\")\n",
        "print(\"Které dveře si vybereš?\")\n",
        "print(\"1. Dřevěné\")\n",
        "print(\"2. Kovové\")\n",
        "\n",
        "vyber = input(\"Zadej číslo své volby: \")\n",
        "\n",
        "if vyber == \"1\":\n",
        "  print(\"Otevřeš dřevěné dveře a vstoupíš do tmavé chodby. Na konci chodby vidíš slabé světlo.\")\n",
        "  print(\"Půjdeš za světlem?\")\n",
        "  print(\"1. Ano\")\n",
        "  print(\"2. Ne\")\n",
        "\n",
        "  vyber2 = input(\"Zadej číslo své volby: \")\n",
        "\n",
        "  if vyber2 == \"1\":\n",
        "    print(\"Půjdeš za světlem a dostaneš se do zahrady plné nádherných květin. Uprostřed zahrady stojí starý muž. Povie ti, že si vyhral.\")\n",
        "  else:\n",
        "    print(\"Zůstaneš ve tmavé chodbě a po chvíli tě pohltí temnota. Prohrál si.\")\n",
        "\n",
        "elif vyber == \"2\":\n",
        "  print(\"Otevřeš kovové dveře a ocitneš se v místnosti plné zrcadel. V jednom ze zrcadel uvidíš svůj odraz, který se na tebe zlověstně usmívá.\")\n",
        "  print(\"Co uděláš?\")\n",
        "  print(\"1. Rozbiješ zrcadlo\")\n",
        "  print(\"2. Zkusíš projít zrcadlem\")\n",
        "\n",
        "  vyber2 = input(\"Zadej číslo své volby: \")\n",
        "\n",
        "  if vyber2 == \"1\":\n",
        "    print(\"Rozbiješ zrcadlo a střepy se promění v ostré meče, které se na tebe vrhnou. Prohrál si.\")\n",
        "  else:\n",
        "    print(\"Zkusíš projít zrcadlem a ocitneš se na druhé straně v bezpečí. Vyhral si.\")\n",
        "\n",
        "else:\n",
        "  print(\"Zadal jsi neplatnou volbu. Hra končí.\")\n"
      ],
      "metadata": {
        "id": "3CetD0PDBrLe"
      },
      "execution_count": null,
      "outputs": []
    }
  ]
}